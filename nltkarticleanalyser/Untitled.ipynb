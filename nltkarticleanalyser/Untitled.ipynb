{
 "cells": [
  {
   "cell_type": "code",
   "execution_count": 1,
   "id": "2044bc90",
   "metadata": {},
   "outputs": [],
   "source": [
    "import pandas as pd"
   ]
  },
  {
   "cell_type": "code",
   "execution_count": 12,
   "id": "11a1241b",
   "metadata": {},
   "outputs": [],
   "source": [
    "df = pd.read_csv('test-dataset.csv', dtype=str)"
   ]
  },
  {
   "cell_type": "code",
   "execution_count": 5,
   "id": "d2158fc7",
   "metadata": {},
   "outputs": [
    {
     "data": {
      "text/plain": [
       "0      As Kazakhstan Descends into Chaos, Crypto Mine...\n",
       "1      The International Monetary Fund tells El Salva...\n",
       "2      Jack Dorsey’s Block is working to make Bitcoin...\n",
       "3      DeepDotWeb operator sentenced to eight years f...\n",
       "4      Crypto.com admits over $30 million stolen by h...\n",
       "                             ...                        \n",
       "627    Can 2021 Stock Market Phenomena Continue Trend...\n",
       "628    Briefcase 1/31/22 | Local Business | leadertel...\n",
       "629    Nigeria: 2023 - I Will Keep My Successor a Sec...\n",
       "630    You can test to finish the payday lender’s usa...\n",
       "631    Actually, you simply need a legitimate ID, pro...\n",
       "Name: title, Length: 632, dtype: object"
      ]
     },
     "execution_count": 5,
     "metadata": {},
     "output_type": "execute_result"
    }
   ],
   "source": [
    "df['title']"
   ]
  },
  {
   "cell_type": "code",
   "execution_count": 7,
   "id": "6da059d4",
   "metadata": {},
   "outputs": [
    {
     "data": {
      "text/plain": [
       "'The International Monetary Fund tells El Salvador it shouldn’t use Bitcoin as legal tender'"
      ]
     },
     "execution_count": 7,
     "metadata": {},
     "output_type": "execute_result"
    }
   ],
   "source": [
    "df['title'][1]\n"
   ]
  },
  {
   "cell_type": "code",
   "execution_count": 8,
   "id": "afd5c24b",
   "metadata": {},
   "outputs": [
    {
     "data": {
      "text/html": [
       "<div>\n",
       "<style scoped>\n",
       "    .dataframe tbody tr th:only-of-type {\n",
       "        vertical-align: middle;\n",
       "    }\n",
       "\n",
       "    .dataframe tbody tr th {\n",
       "        vertical-align: top;\n",
       "    }\n",
       "\n",
       "    .dataframe thead th {\n",
       "        text-align: right;\n",
       "    }\n",
       "</style>\n",
       "<table border=\"1\" class=\"dataframe\">\n",
       "  <thead>\n",
       "    <tr style=\"text-align: right;\">\n",
       "      <th></th>\n",
       "      <th></th>\n",
       "      <th></th>\n",
       "      <th>date;sentiment;source;subject;text;title;url</th>\n",
       "    </tr>\n",
       "  </thead>\n",
       "  <tbody>\n",
       "    <tr>\n",
       "      <th>28-1-2022 06:50;{'class': 'positive'</th>\n",
       "      <th>'polarity': 0.21</th>\n",
       "      <th>'subjectivity': 0.45};CryptoPotato;altcoin;Metaverse platform The Sandbox continues to expand its reach with new partnerships</th>\n",
       "      <td>the latest is with Warner Music Group to work...</td>\n",
       "    </tr>\n",
       "    <tr>\n",
       "      <th>28-1-2022 02:18;{'class': 'neutral'</th>\n",
       "      <th>'polarity': 0.0</th>\n",
       "      <th>'subjectivity': 0.0};CoinTelegraph;nft;OpenSea's critics said the policy change stifled NFT creators by trashing the ability to create unlimited collections and NFTs on the platform.;OpenSea reverses limits on minting after community backlash;https://cointelegraph.com/news/opensea-reverses-limits-on-minting-after-community-backlash</th>\n",
       "      <td>None</td>\n",
       "    </tr>\n",
       "    <tr>\n",
       "      <th>28-1-2022 01:58;{'class': 'neutral'</th>\n",
       "      <th>'polarity': 0.0</th>\n",
       "      <th>'subjectivity': 0.0};CryptoPotato;altcoin;According to anonymous sources</th>\n",
       "      <td>Joe Biden believes that crypto regulation is ...</td>\n",
       "    </tr>\n",
       "    <tr>\n",
       "      <th>28-1-2022 01:00;{'class': 'neutral'</th>\n",
       "      <th>'polarity': 0.0</th>\n",
       "      <th>'subjectivity': 0.0};CryptoNews;ethereum;The Ethereum co-founder discussed the benefits of non-transferable NFTs</th>\n",
       "      <td>as well as their use cases.;Vitalik Buterin D...</td>\n",
       "    </tr>\n",
       "    <tr>\n",
       "      <th>27-1-2022 23:05;{'class': 'positive'</th>\n",
       "      <th>'polarity': 0.08</th>\n",
       "      <th>'subjectivity': 0.55};CoinTelegraph;ethereum;ETH bulls will need to keep searching for positive news</th>\n",
       "      <td>especially as bears apply extra pressure ahea...</td>\n",
       "    </tr>\n",
       "    <tr>\n",
       "      <th>...</th>\n",
       "      <th>...</th>\n",
       "      <th>...</th>\n",
       "      <td>...</td>\n",
       "    </tr>\n",
       "    <tr>\n",
       "      <th>1-11-2021 15:18;{'class': 'neutral'</th>\n",
       "      <th>'polarity': 0.0</th>\n",
       "      <th>'subjectivity': 1.0};CryptoNews;defi;'This is finally getting to the point where crypto is a broader thing than just bitcoin.';Google's Parent Increases its Crypto Bet by Joining Massive DCG Investment Round;https://cryptonews.com/news/google-increases-its-crypto-bet-by-joining-massive-dcg-investment-round.htm</th>\n",
       "      <td>None</td>\n",
       "    </tr>\n",
       "    <tr>\n",
       "      <th>29-10-2021 10:40;{'class': 'positive'</th>\n",
       "      <th>'polarity': 0.2</th>\n",
       "      <th>'subjectivity': 0.33};CryptoNews;defi;The crypto community has issued a withering response to the latest updated Financial Action Task Force (FATF) guidance.;FATF Wants to 'Gut' DeFi with 'Vague' New Guidelines</th>\n",
       "      <td>Say Crypto Players;https://cryptonews.com/new...</td>\n",
       "    </tr>\n",
       "    <tr>\n",
       "      <th>27-10-2021 15:17;{'class': 'neutral'</th>\n",
       "      <th>'polarity': 0.0</th>\n",
       "      <th>'subjectivity': 0.0};CryptoNews;defi;Cream Finance (CREAM) suffered another flash loan attack.;Cream Finance Suffers Another Exploit as Attacker Runs Away With USD 100M+;https://cryptonews.com/news/cream-finance-suffers-another-exploit-as-attacker-runs-away-with-usd-130m.htm</th>\n",
       "      <td>None</td>\n",
       "    </tr>\n",
       "    <tr>\n",
       "      <th>19-10-2021 13:39;{'class': 'positive'</th>\n",
       "      <th>'polarity': 0.1</th>\n",
       "      <th>'subjectivity': 0.4};CryptoNews;blockchain;Banque de France disclosed the results of its experimental program to use CBDC to exchange and settle tokenised government bonds.;French Central Bank's Blockchain Bond Trial Brings First Results;https://cryptonews.com/news/french-central-banks-blockchain-bond-trial-bringsfirst-results.htm</th>\n",
       "      <td>None</td>\n",
       "    </tr>\n",
       "    <tr>\n",
       "      <th>15-10-2021 00:00;{'class': 'neutral'</th>\n",
       "      <th>'polarity': 0.0</th>\n",
       "      <th>'subjectivity': 0.0};CryptoNews;blockchain;Chinese companies are still topping the blockchain patents charts.;Tech Crackdown Hasn't Halted Chinese Firms' Blockchain R&amp;D Progress;https://cryptonews.com/news/tech-crackdown-hasnt-halted-chinese-firms-blockchain-rd-progress.htm</th>\n",
       "      <td>None</td>\n",
       "    </tr>\n",
       "  </tbody>\n",
       "</table>\n",
       "<p>554 rows × 1 columns</p>\n",
       "</div>"
      ],
      "text/plain": [
       "                                                                                                                 date;sentiment;source;subject;text;title;url\n",
       "28-1-2022 06:50;{'class': 'positive'   'polarity': 0.21  'subjectivity': 0.45};CryptoPotato;altcoin;Met...   the latest is with Warner Music Group to work...\n",
       "28-1-2022 02:18;{'class': 'neutral'    'polarity': 0.0   'subjectivity': 0.0};CoinTelegraph;nft;OpenSea...                                               None\n",
       "28-1-2022 01:58;{'class': 'neutral'    'polarity': 0.0   'subjectivity': 0.0};CryptoPotato;altcoin;Acco...   Joe Biden believes that crypto regulation is ...\n",
       "28-1-2022 01:00;{'class': 'neutral'    'polarity': 0.0   'subjectivity': 0.0};CryptoNews;ethereum;The E...   as well as their use cases.;Vitalik Buterin D...\n",
       "27-1-2022 23:05;{'class': 'positive'   'polarity': 0.08  'subjectivity': 0.55};CoinTelegraph;ethereum;E...   especially as bears apply extra pressure ahea...\n",
       "...                                                                                                                                                       ...\n",
       "1-11-2021 15:18;{'class': 'neutral'    'polarity': 0.0   'subjectivity': 1.0};CryptoNews;defi;'This is ...                                               None\n",
       "29-10-2021 10:40;{'class': 'positive'  'polarity': 0.2   'subjectivity': 0.33};CryptoNews;defi;The cryp...   Say Crypto Players;https://cryptonews.com/new...\n",
       "27-10-2021 15:17;{'class': 'neutral'   'polarity': 0.0   'subjectivity': 0.0};CryptoNews;defi;Cream Fin...                                               None\n",
       "19-10-2021 13:39;{'class': 'positive'  'polarity': 0.1   'subjectivity': 0.4};CryptoNews;blockchain;Ban...                                               None\n",
       "15-10-2021 00:00;{'class': 'neutral'   'polarity': 0.0   'subjectivity': 0.0};CryptoNews;blockchain;Chi...                                               None\n",
       "\n",
       "[554 rows x 1 columns]"
      ]
     },
     "execution_count": 8,
     "metadata": {},
     "output_type": "execute_result"
    }
   ],
   "source": [
    "df\n"
   ]
  },
  {
   "cell_type": "code",
   "execution_count": 8,
   "id": "19925c73",
   "metadata": {},
   "outputs": [
    {
     "ename": "NameError",
     "evalue": "name 'dtypes' is not defined",
     "output_type": "error",
     "traceback": [
      "\u001b[1;31m---------------------------------------------------------------------------\u001b[0m",
      "\u001b[1;31mNameError\u001b[0m                                 Traceback (most recent call last)",
      "Input \u001b[1;32mIn [8]\u001b[0m, in \u001b[0;36m<module>\u001b[1;34m\u001b[0m\n\u001b[1;32m----> 1\u001b[0m \u001b[43mdtypes\u001b[49m\n",
      "\u001b[1;31mNameError\u001b[0m: name 'dtypes' is not defined"
     ]
    }
   ],
   "source": [
    "dtypes\n"
   ]
  },
  {
   "cell_type": "code",
   "execution_count": 13,
   "id": "33a339b6",
   "metadata": {},
   "outputs": [
    {
     "data": {
      "text/plain": [
       "Unnamed: 0     object\n",
       "id             object\n",
       "publishedAt    object\n",
       "name           object\n",
       "title          object\n",
       "description    object\n",
       "dtype: object"
      ]
     },
     "execution_count": 13,
     "metadata": {},
     "output_type": "execute_result"
    }
   ],
   "source": [
    "df.dtypes"
   ]
  },
  {
   "cell_type": "code",
   "execution_count": 14,
   "id": "34626bd4",
   "metadata": {},
   "outputs": [
    {
     "ename": "KeyError",
     "evalue": "\"None of [Index(['As Kazakhstan Descends into Chaos, Crypto Miners Are at a Loss',\\n       'The International Monetary Fund tells El Salvador it shouldn’t use Bitcoin as legal tender',\\n       'Jack Dorsey’s Block is working to make Bitcoin mining easier',\\n       'DeepDotWeb operator sentenced to eight years for money laundering',\\n       'Crypto.com admits over $30 million stolen by hackers',\\n       'Bitcoin Extends Slide, Has Fallen More Than 50% From Record High',\\n       'Block is officially building an 'open Bitcoin mining system,' says founder Jack Dorsey',\\n       'Musk says Tesla to accept dogecoin for merchandise',\\n       'Eric Adams Is Taking His First Paycheck in Crypto',\\n       'Gibraltar Could Launch the World’s First Crypto Stock Exchange',\\n       ...\\n       'Crypto exchange FTX US valued at $8 bln as first fundraise draws SoftBank, Temasek - Reuters',\\n       'Bitcoin tumbles 8% and other cryptos crash as hawkish Fed minutes whack risky assets',\\n       'Pakistan seeks records from Binance as part of a probe into a scam alleging Binance wallets and integrated apps were used to defraud ~$100M from Pakistani users (Aislinn KeelyThe Block)',\\n       'Binance conducted its first Binance Coin (BNB) auto-burn last quarter, removing over 1.6M BNB tokens worth $750M from circulation (Omkar GodboleCoinDesk)',\\n       'Binance CEO’s Net Worth Estimated To Be $96 Billion USD',\\n       'Can 2021 Stock Market Phenomena Continue Trending Upward Through 2022?',\\n       'Briefcase 13122 | Local Business | leadertelegram.com - Leader-Telegram',\\n       'Nigeria: 2023 - I Will Keep My Successor a Secret - Buhari',\\n       'You can test to finish the payday lender’s usage of the resources in your levels',\\n       'Actually, you simply need a legitimate ID, proof income and a banking account'],\\n      dtype='object', length=632)] are in the [columns]\"",
     "output_type": "error",
     "traceback": [
      "\u001b[1;31m---------------------------------------------------------------------------\u001b[0m",
      "\u001b[1;31mKeyError\u001b[0m                                  Traceback (most recent call last)",
      "Input \u001b[1;32mIn [14]\u001b[0m, in \u001b[0;36m<module>\u001b[1;34m\u001b[0m\n\u001b[1;32m----> 1\u001b[0m df[\u001b[38;5;124m'\u001b[39m\u001b[38;5;124mtitle\u001b[39m\u001b[38;5;124m'\u001b[39m] \u001b[38;5;241m=\u001b[39m \u001b[43mdf\u001b[49m\u001b[43m[\u001b[49m\u001b[43mdf\u001b[49m\u001b[43m[\u001b[49m\u001b[38;5;124;43m'\u001b[39;49m\u001b[38;5;124;43mtitle\u001b[39;49m\u001b[38;5;124;43m'\u001b[39;49m\u001b[43m]\u001b[49m\u001b[38;5;241;43m.\u001b[39;49m\u001b[43mstr\u001b[49m\u001b[38;5;241;43m.\u001b[39;49m\u001b[43mreplace\u001b[49m\u001b[43m(\u001b[49m\u001b[38;5;124;43m'\u001b[39;49m\u001b[38;5;124;43m/\u001b[39;49m\u001b[38;5;124;43m'\u001b[39;49m\u001b[43m,\u001b[49m\u001b[38;5;124;43m'\u001b[39;49m\u001b[38;5;124;43m'\u001b[39;49m\u001b[43m)\u001b[49m\u001b[43m]\u001b[49m\n",
      "File \u001b[1;32m~\\miniconda3\\envs\\env\\lib\\site-packages\\pandas\\core\\frame.py:3512\u001b[0m, in \u001b[0;36mDataFrame.__getitem__\u001b[1;34m(self, key)\u001b[0m\n\u001b[0;32m   3510\u001b[0m     \u001b[38;5;28;01mif\u001b[39;00m is_iterator(key):\n\u001b[0;32m   3511\u001b[0m         key \u001b[38;5;241m=\u001b[39m \u001b[38;5;28mlist\u001b[39m(key)\n\u001b[1;32m-> 3512\u001b[0m     indexer \u001b[38;5;241m=\u001b[39m \u001b[38;5;28;43mself\u001b[39;49m\u001b[38;5;241;43m.\u001b[39;49m\u001b[43mcolumns\u001b[49m\u001b[38;5;241;43m.\u001b[39;49m\u001b[43m_get_indexer_strict\u001b[49m\u001b[43m(\u001b[49m\u001b[43mkey\u001b[49m\u001b[43m,\u001b[49m\u001b[43m \u001b[49m\u001b[38;5;124;43m\"\u001b[39;49m\u001b[38;5;124;43mcolumns\u001b[39;49m\u001b[38;5;124;43m\"\u001b[39;49m\u001b[43m)\u001b[49m[\u001b[38;5;241m1\u001b[39m]\n\u001b[0;32m   3514\u001b[0m \u001b[38;5;66;03m# take() does not accept boolean indexers\u001b[39;00m\n\u001b[0;32m   3515\u001b[0m \u001b[38;5;28;01mif\u001b[39;00m \u001b[38;5;28mgetattr\u001b[39m(indexer, \u001b[38;5;124m\"\u001b[39m\u001b[38;5;124mdtype\u001b[39m\u001b[38;5;124m\"\u001b[39m, \u001b[38;5;28;01mNone\u001b[39;00m) \u001b[38;5;241m==\u001b[39m \u001b[38;5;28mbool\u001b[39m:\n",
      "File \u001b[1;32m~\\miniconda3\\envs\\env\\lib\\site-packages\\pandas\\core\\indexes\\base.py:5782\u001b[0m, in \u001b[0;36mIndex._get_indexer_strict\u001b[1;34m(self, key, axis_name)\u001b[0m\n\u001b[0;32m   5779\u001b[0m \u001b[38;5;28;01melse\u001b[39;00m:\n\u001b[0;32m   5780\u001b[0m     keyarr, indexer, new_indexer \u001b[38;5;241m=\u001b[39m \u001b[38;5;28mself\u001b[39m\u001b[38;5;241m.\u001b[39m_reindex_non_unique(keyarr)\n\u001b[1;32m-> 5782\u001b[0m \u001b[38;5;28;43mself\u001b[39;49m\u001b[38;5;241;43m.\u001b[39;49m\u001b[43m_raise_if_missing\u001b[49m\u001b[43m(\u001b[49m\u001b[43mkeyarr\u001b[49m\u001b[43m,\u001b[49m\u001b[43m \u001b[49m\u001b[43mindexer\u001b[49m\u001b[43m,\u001b[49m\u001b[43m \u001b[49m\u001b[43maxis_name\u001b[49m\u001b[43m)\u001b[49m\n\u001b[0;32m   5784\u001b[0m keyarr \u001b[38;5;241m=\u001b[39m \u001b[38;5;28mself\u001b[39m\u001b[38;5;241m.\u001b[39mtake(indexer)\n\u001b[0;32m   5785\u001b[0m \u001b[38;5;28;01mif\u001b[39;00m \u001b[38;5;28misinstance\u001b[39m(key, Index):\n\u001b[0;32m   5786\u001b[0m     \u001b[38;5;66;03m# GH 42790 - Preserve name from an Index\u001b[39;00m\n",
      "File \u001b[1;32m~\\miniconda3\\envs\\env\\lib\\site-packages\\pandas\\core\\indexes\\base.py:5842\u001b[0m, in \u001b[0;36mIndex._raise_if_missing\u001b[1;34m(self, key, indexer, axis_name)\u001b[0m\n\u001b[0;32m   5840\u001b[0m     \u001b[38;5;28;01mif\u001b[39;00m use_interval_msg:\n\u001b[0;32m   5841\u001b[0m         key \u001b[38;5;241m=\u001b[39m \u001b[38;5;28mlist\u001b[39m(key)\n\u001b[1;32m-> 5842\u001b[0m     \u001b[38;5;28;01mraise\u001b[39;00m \u001b[38;5;167;01mKeyError\u001b[39;00m(\u001b[38;5;124mf\u001b[39m\u001b[38;5;124m\"\u001b[39m\u001b[38;5;124mNone of [\u001b[39m\u001b[38;5;132;01m{\u001b[39;00mkey\u001b[38;5;132;01m}\u001b[39;00m\u001b[38;5;124m] are in the [\u001b[39m\u001b[38;5;132;01m{\u001b[39;00maxis_name\u001b[38;5;132;01m}\u001b[39;00m\u001b[38;5;124m]\u001b[39m\u001b[38;5;124m\"\u001b[39m)\n\u001b[0;32m   5844\u001b[0m not_found \u001b[38;5;241m=\u001b[39m \u001b[38;5;28mlist\u001b[39m(ensure_index(key)[missing_mask\u001b[38;5;241m.\u001b[39mnonzero()[\u001b[38;5;241m0\u001b[39m]]\u001b[38;5;241m.\u001b[39munique())\n\u001b[0;32m   5845\u001b[0m \u001b[38;5;28;01mraise\u001b[39;00m \u001b[38;5;167;01mKeyError\u001b[39;00m(\u001b[38;5;124mf\u001b[39m\u001b[38;5;124m\"\u001b[39m\u001b[38;5;132;01m{\u001b[39;00mnot_found\u001b[38;5;132;01m}\u001b[39;00m\u001b[38;5;124m not in index\u001b[39m\u001b[38;5;124m\"\u001b[39m)\n",
      "\u001b[1;31mKeyError\u001b[0m: \"None of [Index(['As Kazakhstan Descends into Chaos, Crypto Miners Are at a Loss',\\n       'The International Monetary Fund tells El Salvador it shouldn’t use Bitcoin as legal tender',\\n       'Jack Dorsey’s Block is working to make Bitcoin mining easier',\\n       'DeepDotWeb operator sentenced to eight years for money laundering',\\n       'Crypto.com admits over $30 million stolen by hackers',\\n       'Bitcoin Extends Slide, Has Fallen More Than 50% From Record High',\\n       'Block is officially building an 'open Bitcoin mining system,' says founder Jack Dorsey',\\n       'Musk says Tesla to accept dogecoin for merchandise',\\n       'Eric Adams Is Taking His First Paycheck in Crypto',\\n       'Gibraltar Could Launch the World’s First Crypto Stock Exchange',\\n       ...\\n       'Crypto exchange FTX US valued at $8 bln as first fundraise draws SoftBank, Temasek - Reuters',\\n       'Bitcoin tumbles 8% and other cryptos crash as hawkish Fed minutes whack risky assets',\\n       'Pakistan seeks records from Binance as part of a probe into a scam alleging Binance wallets and integrated apps were used to defraud ~$100M from Pakistani users (Aislinn KeelyThe Block)',\\n       'Binance conducted its first Binance Coin (BNB) auto-burn last quarter, removing over 1.6M BNB tokens worth $750M from circulation (Omkar GodboleCoinDesk)',\\n       'Binance CEO’s Net Worth Estimated To Be $96 Billion USD',\\n       'Can 2021 Stock Market Phenomena Continue Trending Upward Through 2022?',\\n       'Briefcase 13122 | Local Business | leadertelegram.com - Leader-Telegram',\\n       'Nigeria: 2023 - I Will Keep My Successor a Secret - Buhari',\\n       'You can test to finish the payday lender’s usage of the resources in your levels',\\n       'Actually, you simply need a legitimate ID, proof income and a banking account'],\\n      dtype='object', length=632)] are in the [columns]\""
     ]
    }
   ],
   "source": [
    "df['title'] = df[df['title'].str.replace('/','')]"
   ]
  },
  {
   "cell_type": "code",
   "execution_count": 15,
   "id": "01e54ee9",
   "metadata": {},
   "outputs": [
    {
     "data": {
      "text/plain": [
       "Unnamed: 0     object\n",
       "id             object\n",
       "publishedAt    object\n",
       "name           object\n",
       "title          object\n",
       "description    object\n",
       "dtype: object"
      ]
     },
     "execution_count": 15,
     "metadata": {},
     "output_type": "execute_result"
    }
   ],
   "source": [
    "df.dtypes"
   ]
  },
  {
   "cell_type": "code",
   "execution_count": 16,
   "id": "e1b42944",
   "metadata": {},
   "outputs": [
    {
     "ename": "NameError",
     "evalue": "name 'dataset' is not defined",
     "output_type": "error",
     "traceback": [
      "\u001b[1;31m---------------------------------------------------------------------------\u001b[0m",
      "\u001b[1;31mNameError\u001b[0m                                 Traceback (most recent call last)",
      "Input \u001b[1;32mIn [16]\u001b[0m, in \u001b[0;36m<module>\u001b[1;34m\u001b[0m\n\u001b[1;32m----> 1\u001b[0m dataset[\u001b[38;5;124m'\u001b[39m\u001b[38;5;124mdescription\u001b[39m\u001b[38;5;124m'\u001b[39m]\u001b[38;5;241m=\u001b[39m \u001b[43mdataset\u001b[49m[\u001b[38;5;124m'\u001b[39m\u001b[38;5;124mdescription\u001b[39m\u001b[38;5;124m'\u001b[39m]\u001b[38;5;241m.\u001b[39mastype(\u001b[38;5;28mstr\u001b[39m)\n",
      "\u001b[1;31mNameError\u001b[0m: name 'dataset' is not defined"
     ]
    }
   ],
   "source": [
    "dataset['description']= dataset['description'].astype(str)"
   ]
  },
  {
   "cell_type": "code",
   "execution_count": 17,
   "id": "a28f888d",
   "metadata": {},
   "outputs": [],
   "source": [
    "df['title'] = df['title'].astype(str)"
   ]
  },
  {
   "cell_type": "code",
   "execution_count": 18,
   "id": "4e948647",
   "metadata": {},
   "outputs": [
    {
     "data": {
      "text/plain": [
       "Unnamed: 0     object\n",
       "id             object\n",
       "publishedAt    object\n",
       "name           object\n",
       "title          object\n",
       "description    object\n",
       "dtype: object"
      ]
     },
     "execution_count": 18,
     "metadata": {},
     "output_type": "execute_result"
    }
   ],
   "source": [
    "df.dtypes"
   ]
  },
  {
   "cell_type": "code",
   "execution_count": null,
   "id": "60455141",
   "metadata": {},
   "outputs": [],
   "source": []
  }
 ],
 "metadata": {
  "kernelspec": {
   "display_name": "Python 3 (ipykernel)",
   "language": "python",
   "name": "python3"
  },
  "language_info": {
   "codemirror_mode": {
    "name": "ipython",
    "version": 3
   },
   "file_extension": ".py",
   "mimetype": "text/x-python",
   "name": "python",
   "nbconvert_exporter": "python",
   "pygments_lexer": "ipython3",
   "version": "3.9.10"
  }
 },
 "nbformat": 4,
 "nbformat_minor": 5
}
